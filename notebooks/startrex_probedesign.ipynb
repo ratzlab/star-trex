{
 "cells": [
  {
   "cell_type": "markdown",
   "metadata": {},
   "source": [
    "# Probe design pipeline\n",
    "\n",
    "### Some code to design probes for star-trex."
   ]
  },
  {
   "cell_type": "markdown",
   "metadata": {},
   "source": [
    "Import some packages"
   ]
  },
  {
   "cell_type": "code",
   "execution_count": 1,
   "metadata": {},
   "outputs": [],
   "source": [
    "import os\n",
    "import pandas as pd\n",
    "import sys\n",
    "sys.path.insert(1, os.path.abspath('..'))"
   ]
  },
  {
   "cell_type": "markdown",
   "metadata": {},
   "source": [
    "Define the working directory here"
   ]
  },
  {
   "cell_type": "code",
   "execution_count": 2,
   "metadata": {},
   "outputs": [],
   "source": [
    "work_dir = \"/Users/leonievb/Library/CloudStorage/OneDrive-Personal/Postdoc/Data/Probe_data/\""
   ]
  },
  {
   "cell_type": "markdown",
   "metadata": {},
   "source": [
    "First, we need to enter some information to be able to design probes the way we want it. Modify paths as needed."
   ]
  },
  {
   "cell_type": "code",
   "execution_count": 19,
   "metadata": {},
   "outputs": [],
   "source": [
    "#Insert Path to a CSV file with list of genes to be used for probe design. \n",
    "#Expects the following format with no header:\n",
    "# gene1\n",
    "# gene2\n",
    "genes_path = os.path.join(work_dir, \"probe_gene_list.csv\")\n",
    "\n",
    "#Path to CSV file that contains the database with calculated target sequences within the transcriptome. \n",
    "#While format is not fully specified, it must have a header row and one column with name \"primer\" for the \n",
    "#primer target sequences and one column named \"padlock\" for the padlock target sequence\n",
    "#        ...     ,primer,   ...   ,padlock, ...\n",
    "#                ,pr_seq1,        ,pa_seq1,\n",
    "#                ,pr_seq2,        ,pa_seq2,\n",
    "probedb_path = os.path.join(work_dir, \"M_musculus_filtered_probe.csv\")\n",
    "\n",
    "#Path to desired location and name of the output file\n",
    "output_path = os.path.join(work_dir, \"probes_all.csv\")\n",
    "\n",
    "#Path to a CSV file that provides one geneID for each gene. Either these geneIDs\n",
    "#will be used to create the probes, OR if create_geneids = True, it will avoid these geneIDs as\n",
    "#they will be considered as already existing. If None is provided and create_geneids not a number,\n",
    "#an error will be thrown. While format is not fully specified, it must have a header row and one \n",
    "#column with name \"gene\" for the gene symbol and one column named \"geneid\" for the geneID:\n",
    "# ...     ,gene,   ...   ,geneID, ...\n",
    "#         ,gene1,        ,geneID1,\n",
    "#         ,gene2,        ,geneID2,\n",
    "geneids_path = os.path.join(work_dir, \"probes_cloneIDs.csv\")\n",
    "create_geneids = 5\n",
    "\n",
    "#Maximum number of probes to design per gene\n",
    "probe_max = 4\n",
    "\n",
    "#Exclude \"TA\" sequences in the spacer region between primer and padlock targer\n",
    "exclude_TA = True"
   ]
  },
  {
   "cell_type": "code",
   "execution_count": 20,
   "metadata": {},
   "outputs": [
    {
     "name": "stdout",
     "output_type": "stream",
     "text": [
      "Gene Grfa2 is not in at least one of the databases and was skipped\n",
      "Gene RP23-231J2.1 is not in at least one of the databases and was skipped\n"
     ]
    }
   ],
   "source": [
    "from importlib import reload\n",
    "from src import probe_designer\n",
    "reload(probe_designer)\n",
    "from src.probe_designer import probe_designer\n",
    "\n",
    "df = probe_designer(genes_path=genes_path, probedb_path=probedb_path, output_path=output_path, \n",
    "                    geneids_path = geneids_path, create_geneids= create_geneids, probe_max = probe_max,\n",
    "                    exclude_TA=exclude_TA)"
   ]
  },
  {
   "cell_type": "markdown",
   "metadata": {},
   "source": [
    "If there are genes for which no probes could be designed, you can see their names above. Please examine why they could not be included in probe design and correct if needed"
   ]
  },
  {
   "cell_type": "markdown",
   "metadata": {},
   "source": [
    "There will be a stored .csv file in your indicated output location but you can also have a look at the results here"
   ]
  },
  {
   "cell_type": "code",
   "execution_count": 10,
   "metadata": {},
   "outputs": [
    {
     "data": {
      "text/html": [
       "<div>\n",
       "<style scoped>\n",
       "    .dataframe tbody tr th:only-of-type {\n",
       "        vertical-align: middle;\n",
       "    }\n",
       "\n",
       "    .dataframe tbody tr th {\n",
       "        vertical-align: top;\n",
       "    }\n",
       "\n",
       "    .dataframe thead th {\n",
       "        text-align: right;\n",
       "    }\n",
       "</style>\n",
       "<table border=\"1\" class=\"dataframe\">\n",
       "  <thead>\n",
       "    <tr style=\"text-align: right;\">\n",
       "      <th></th>\n",
       "      <th>gene</th>\n",
       "      <th>geneID</th>\n",
       "      <th>padlockID</th>\n",
       "      <th>padlock_seq</th>\n",
       "      <th>primerID</th>\n",
       "      <th>primer_seq</th>\n",
       "    </tr>\n",
       "  </thead>\n",
       "  <tbody>\n",
       "    <tr>\n",
       "      <th>0</th>\n",
       "      <td>Cpne4</td>\n",
       "      <td>CGGAA</td>\n",
       "      <td>Cpne4_00</td>\n",
       "      <td>AAAATACTGTTGAGTCGCGTCATCGTAATTATTACCGGAACATACA...</td>\n",
       "      <td>Cpne4_10</td>\n",
       "      <td>ATCACAACCTCTGTTCGATGCACATATTTTTATCTT</td>\n",
       "    </tr>\n",
       "    <tr>\n",
       "      <th>1</th>\n",
       "      <td>Cpne4</td>\n",
       "      <td>CGGAA</td>\n",
       "      <td>Cpne4_01</td>\n",
       "      <td>AAAATAATTCCGTCGTCACCGTCCAAATTATTACCGGAACATACAC...</td>\n",
       "      <td>Cpne4_11</td>\n",
       "      <td>TCTCCCTTGGGTGACCTTAGTATTTTTATCTT</td>\n",
       "    </tr>\n",
       "    <tr>\n",
       "      <th>2</th>\n",
       "      <td>Cpne4</td>\n",
       "      <td>CGGAA</td>\n",
       "      <td>Cpne4_02</td>\n",
       "      <td>AAAATAGTACCTGTTTCCCTTCCATGAATTATTACCGGAACATACA...</td>\n",
       "      <td>Cpne4_12</td>\n",
       "      <td>GGGGTTGATGCATTCCCACTATTTTTATCTT</td>\n",
       "    </tr>\n",
       "    <tr>\n",
       "      <th>3</th>\n",
       "      <td>Cpne4</td>\n",
       "      <td>CGGAA</td>\n",
       "      <td>Cpne4_03</td>\n",
       "      <td>AAAATAGAACGGAAAGTTGGACAGCCAATTATTACCGGAACATACA...</td>\n",
       "      <td>Cpne4_13</td>\n",
       "      <td>AGCTCAAAGACCAAGCGATTTATTTTTATCTT</td>\n",
       "    </tr>\n",
       "    <tr>\n",
       "      <th>4</th>\n",
       "      <td>Fezf2</td>\n",
       "      <td>TACCC</td>\n",
       "      <td>Fezf2_00</td>\n",
       "      <td>AGTCTATAGTGTTTTAGAAGTGGCCGAATTATTACTACCCCATACA...</td>\n",
       "      <td>Fezf2_10</td>\n",
       "      <td>ATGCGCTCGATAGAGAAAGTAGACTTATCTT</td>\n",
       "    </tr>\n",
       "    <tr>\n",
       "      <th>...</th>\n",
       "      <td>...</td>\n",
       "      <td>...</td>\n",
       "      <td>...</td>\n",
       "      <td>...</td>\n",
       "      <td>...</td>\n",
       "      <td>...</td>\n",
       "    </tr>\n",
       "    <tr>\n",
       "      <th>1827</th>\n",
       "      <td>Lbhd2</td>\n",
       "      <td>ACAGA</td>\n",
       "      <td>Lbhd2_03</td>\n",
       "      <td>ACGTTACAGAGCCAAGGGCCCTTCTAATTATTACACAGACATACAC...</td>\n",
       "      <td>Lbhd2_13</td>\n",
       "      <td>ACAATAGAGGGCAGTCGCTGTAACGTTATCTT</td>\n",
       "    </tr>\n",
       "    <tr>\n",
       "      <th>1828</th>\n",
       "      <td>Gm17750</td>\n",
       "      <td>TGTCT</td>\n",
       "      <td>Gm17750_00</td>\n",
       "      <td>AACCTAATCACTCAGTGCTACATGGCAATTATTACTGTCTCATACA...</td>\n",
       "      <td>Gm17750_10</td>\n",
       "      <td>AGACCTTGTCTAGAATTGGCATGTAGGTTTATCTT</td>\n",
       "    </tr>\n",
       "    <tr>\n",
       "      <th>1829</th>\n",
       "      <td>Gm17750</td>\n",
       "      <td>TGTCT</td>\n",
       "      <td>Gm17750_01</td>\n",
       "      <td>AACCTAAATCTTCACCCAGGATGGTGTAATTATTACTGTCTCATAC...</td>\n",
       "      <td>Gm17750_11</td>\n",
       "      <td>AGCACATCCACATTCAATTGCAATAGGTTTATCTT</td>\n",
       "    </tr>\n",
       "    <tr>\n",
       "      <th>1830</th>\n",
       "      <td>Gm17750</td>\n",
       "      <td>TGTCT</td>\n",
       "      <td>Gm17750_02</td>\n",
       "      <td>AACCTATCCATATCCAGGAGCACAGAATTATTACTGTCTCATACAC...</td>\n",
       "      <td>Gm17750_12</td>\n",
       "      <td>AGCTCTTGAGGAGAGATTAACATAGGTTTATCTT</td>\n",
       "    </tr>\n",
       "    <tr>\n",
       "      <th>1831</th>\n",
       "      <td>Gm17750</td>\n",
       "      <td>TGTCT</td>\n",
       "      <td>Gm17750_03</td>\n",
       "      <td>AACCTACGTTTTCATTCAGTTAATGTAATTATTACTGTCTCATACA...</td>\n",
       "      <td>Gm17750_13</td>\n",
       "      <td>CAAGCAGAACAAGGACTACTAGGTTTATCTT</td>\n",
       "    </tr>\n",
       "  </tbody>\n",
       "</table>\n",
       "<p>1832 rows × 6 columns</p>\n",
       "</div>"
      ],
      "text/plain": [
       "         gene geneID   padlockID  \\\n",
       "0       Cpne4  CGGAA    Cpne4_00   \n",
       "1       Cpne4  CGGAA    Cpne4_01   \n",
       "2       Cpne4  CGGAA    Cpne4_02   \n",
       "3       Cpne4  CGGAA    Cpne4_03   \n",
       "4       Fezf2  TACCC    Fezf2_00   \n",
       "...       ...    ...         ...   \n",
       "1827    Lbhd2  ACAGA    Lbhd2_03   \n",
       "1828  Gm17750  TGTCT  Gm17750_00   \n",
       "1829  Gm17750  TGTCT  Gm17750_01   \n",
       "1830  Gm17750  TGTCT  Gm17750_02   \n",
       "1831  Gm17750  TGTCT  Gm17750_03   \n",
       "\n",
       "                                            padlock_seq    primerID  \\\n",
       "0     AAAATACTGTTGAGTCGCGTCATCGTAATTATTACCGGAACATACA...    Cpne4_10   \n",
       "1     AAAATAATTCCGTCGTCACCGTCCAAATTATTACCGGAACATACAC...    Cpne4_11   \n",
       "2     AAAATAGTACCTGTTTCCCTTCCATGAATTATTACCGGAACATACA...    Cpne4_12   \n",
       "3     AAAATAGAACGGAAAGTTGGACAGCCAATTATTACCGGAACATACA...    Cpne4_13   \n",
       "4     AGTCTATAGTGTTTTAGAAGTGGCCGAATTATTACTACCCCATACA...    Fezf2_10   \n",
       "...                                                 ...         ...   \n",
       "1827  ACGTTACAGAGCCAAGGGCCCTTCTAATTATTACACAGACATACAC...    Lbhd2_13   \n",
       "1828  AACCTAATCACTCAGTGCTACATGGCAATTATTACTGTCTCATACA...  Gm17750_10   \n",
       "1829  AACCTAAATCTTCACCCAGGATGGTGTAATTATTACTGTCTCATAC...  Gm17750_11   \n",
       "1830  AACCTATCCATATCCAGGAGCACAGAATTATTACTGTCTCATACAC...  Gm17750_12   \n",
       "1831  AACCTACGTTTTCATTCAGTTAATGTAATTATTACTGTCTCATACA...  Gm17750_13   \n",
       "\n",
       "                                primer_seq  \n",
       "0     ATCACAACCTCTGTTCGATGCACATATTTTTATCTT  \n",
       "1         TCTCCCTTGGGTGACCTTAGTATTTTTATCTT  \n",
       "2          GGGGTTGATGCATTCCCACTATTTTTATCTT  \n",
       "3         AGCTCAAAGACCAAGCGATTTATTTTTATCTT  \n",
       "4          ATGCGCTCGATAGAGAAAGTAGACTTATCTT  \n",
       "...                                    ...  \n",
       "1827      ACAATAGAGGGCAGTCGCTGTAACGTTATCTT  \n",
       "1828   AGACCTTGTCTAGAATTGGCATGTAGGTTTATCTT  \n",
       "1829   AGCACATCCACATTCAATTGCAATAGGTTTATCTT  \n",
       "1830    AGCTCTTGAGGAGAGATTAACATAGGTTTATCTT  \n",
       "1831       CAAGCAGAACAAGGACTACTAGGTTTATCTT  \n",
       "\n",
       "[1832 rows x 6 columns]"
      ]
     },
     "execution_count": 10,
     "metadata": {},
     "output_type": "execute_result"
    }
   ],
   "source": [
    "df"
   ]
  }
 ],
 "metadata": {
  "kernelspec": {
   "display_name": "starfish",
   "language": "python",
   "name": "python3"
  },
  "language_info": {
   "codemirror_mode": {
    "name": "ipython",
    "version": 3
   },
   "file_extension": ".py",
   "mimetype": "text/x-python",
   "name": "python",
   "nbconvert_exporter": "python",
   "pygments_lexer": "ipython3",
   "version": "3.7.12"
  }
 },
 "nbformat": 4,
 "nbformat_minor": 2
}
