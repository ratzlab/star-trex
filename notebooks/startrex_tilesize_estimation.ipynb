{
 "cells": [
  {
   "cell_type": "markdown",
   "metadata": {},
   "source": [
    "# Star-TREX run time estimation for large datasets"
   ]
  },
  {
   "cell_type": "markdown",
   "metadata": {},
   "source": [
    "Since looping through tiles and decoding spots in each tile separately might take a long time for large dataset, the following pipeline allows to estimate the run time for given tile sizes by running one loop and extrapolating the full run time. Then the optimal tile size can be identified.\n",
    "\n",
    "Please note that the estimations are just that, estimations. Because many factors are at play, e.g. the available memory on your system, it is not possible to give an accurate answer."
   ]
  },
  {
   "cell_type": "markdown",
   "metadata": {},
   "source": [
    "### Load required data"
   ]
  },
  {
   "cell_type": "markdown",
   "metadata": {},
   "source": [
    "Load required packages."
   ]
  },
  {
   "cell_type": "code",
   "execution_count": 25,
   "metadata": {},
   "outputs": [],
   "source": [
    "# Load packages\n",
    "from IPython import get_ipython\n",
    "import matplotlib.pyplot as plt\n",
    "import matplotlib\n",
    "import pandas as pd\n",
    "import numpy as np\n",
    "import sys\n",
    "import os\n",
    "\n",
    "sys.path.insert(1, os.path.abspath('..'))\n",
    "\n",
    "ipython = get_ipython()\n",
    "ipython.run_line_magic(\"gui\", \"qt5\")\n",
    "ipython.run_line_magic(\"matplotlib\", \"inline\")\n",
    "\n",
    "matplotlib.rcParams[\"figure.dpi\"] = 100"
   ]
  },
  {
   "cell_type": "markdown",
   "metadata": {},
   "source": [
    "Define your working directory and the path to the settings.yaml"
   ]
  },
  {
   "cell_type": "code",
   "execution_count": 5,
   "metadata": {},
   "outputs": [],
   "source": [
    "work_dir = \"/Users/leonievb/Library/CloudStorage/OneDrive-Personal/Postdoc/Data/02_4_Gene_Test2/OME-TIFF_MaxIP/\"\n",
    "\n",
    "settings_path= \"/Users/leonievb/Library/CloudStorage/OneDrive-Personal/Postdoc/Data/02_4_Gene_Test2/OME-TIFF_MaxIP/settings.yaml\""
   ]
  },
  {
   "cell_type": "markdown",
   "metadata": {},
   "source": [
    "Load the experiment"
   ]
  },
  {
   "cell_type": "code",
   "execution_count": 6,
   "metadata": {},
   "outputs": [
    {
     "name": "stdout",
     "output_type": "stream",
     "text": [
      "<starfish.Experiment (FOVs=1)>\n",
      "{\n",
      "fov_000: <starfish.FieldOfView>\n",
      "  Primary Image: <slicedimage.TileSet (z: 1, c: 4, r: 6, x: 2048, y: 2048)>\n",
      "  Auxiliary Images:\n",
      "    nuclei: <slicedimage.TileSet (z: 1, c: 1, r: 6, x: 2048, y: 2048)>\n",
      "}\n"
     ]
    }
   ],
   "source": [
    "#Load experiment\n",
    "from starfish import Experiment\n",
    "exp = Experiment.from_json(os.path.join(work_dir, \"spacetx\", \"primary\", \"experiment.json\"))\n",
    "print(exp)"
   ]
  },
  {
   "cell_type": "markdown",
   "metadata": {},
   "source": [
    "### Run first tile of different tile sizes"
   ]
  },
  {
   "cell_type": "markdown",
   "metadata": {},
   "source": [
    "Let's estimate the run time of the pipeline with different tile sizes. The chosen tile sizes should be a fraction of the total length of the edge, e.g. if the x dimension of your image is 2048 pixels, the tiles could have an x length of 1024, 512, 256 etc. Currently, the code cannot handle tile sizes that are not a fraction of the total size. \n",
    "The image does not have to be a square, e.g. it can be 2048 x 2000 pixels. In that case different length of edges can be chosen, e.g. 512 px for the x-edge and 500 px for the y-edge. "
   ]
  },
  {
   "cell_type": "markdown",
   "metadata": {},
   "source": [
    "Define the tile sizes to be tested below. Make sure the list"
   ]
  },
  {
   "cell_type": "code",
   "execution_count": 11,
   "metadata": {},
   "outputs": [],
   "source": [
    "x_test = [2048, 1024, 512, 256]\n",
    "y_test = [2048, 1024, 512, 256]\n",
    "\n",
    "if len(x_test) != len(y_test):\n",
    "    raise Exception(\"The list x_test and y_test must have the same number of elements\")"
   ]
  },
  {
   "cell_type": "markdown",
   "metadata": {},
   "source": [
    "Now run the estimation. Be aware, that depending on the size of tiles, this might take a while."
   ]
  },
  {
   "cell_type": "code",
   "execution_count": 27,
   "metadata": {},
   "outputs": [
    {
     "name": "stdout",
     "output_type": "stream",
     "text": [
      "The pipeline was started at: 2024-06-28 15:42:04.704058\n",
      "Loads the full nuclei image\n"
     ]
    },
    {
     "name": "stderr",
     "output_type": "stream",
     "text": [
      "100%|██████████| 6/6 [00:00<00:00, 189.51it/s]\n"
     ]
    },
    {
     "name": "stdout",
     "output_type": "stream",
     "text": [
      "Calculates offset between rounds by image registration\n",
      "...Calculates the offset to anchor round\n"
     ]
    },
    {
     "name": "stderr",
     "output_type": "stream",
     "text": [
      "100%|██████████| 6/6 [00:00<00:00, 393.18it/s]\n"
     ]
    },
    {
     "name": "stdout",
     "output_type": "stream",
     "text": [
      "tile indices: {<Axes.ROUND: 'r'>: 0}\n",
      "translation: y=0.0, x=0.0, rotation: 0.0, scale: 1.0\n",
      "tile indices: {<Axes.ROUND: 'r'>: 1}\n",
      "translation: y=-220.167, x=-29.564, rotation: 0.0, scale: 1.0\n",
      "tile indices: {<Axes.ROUND: 'r'>: 2}\n",
      "translation: y=-241.87, x=-28.105, rotation: 0.0, scale: 1.0\n",
      "tile indices: {<Axes.ROUND: 'r'>: 3}\n",
      "translation: y=-141.858, x=14.732, rotation: 0.0, scale: 1.0\n",
      "tile indices: {<Axes.ROUND: 'r'>: 4}\n",
      "translation: y=-61.121, x=-8.523, rotation: 0.0, scale: 1.0\n",
      "tile indices: {<Axes.ROUND: 'r'>: 5}\n",
      "translation: y=-2.193, x=3.743, rotation: 0.0, scale: 1.0\n",
      "...Finished!\n",
      "Loads the full signal image\n"
     ]
    },
    {
     "name": "stderr",
     "output_type": "stream",
     "text": [
      "100%|██████████| 24/24 [00:00<00:00, 145.65it/s]\n"
     ]
    },
    {
     "name": "stdout",
     "output_type": "stream",
     "text": [
      "Transforms the image according to calculated offset\n",
      "...Transforms images based on provided/calculated offset\n",
      "Equalises pixel intensities across channels and rounds\n",
      "Calculating reference distribution...\n"
     ]
    },
    {
     "name": "stderr",
     "output_type": "stream",
     "text": [
      "100%|██████████| 24/24 [00:00<00:00, 957.09it/s]\n"
     ]
    },
    {
     "name": "stdout",
     "output_type": "stream",
     "text": [
      "Removes background from images with White Top-Hat filter\n"
     ]
    },
    {
     "name": "stderr",
     "output_type": "stream",
     "text": [
      "100%|██████████| 24/24 [00:00<00:00, 845.37it/s]\n"
     ]
    },
    {
     "name": "stdout",
     "output_type": "stream",
     "text": [
      "Performs deconvolution on images\n"
     ]
    },
    {
     "name": "stderr",
     "output_type": "stream",
     "text": [
      "100%|██████████| 24/24 [00:00<00:00, 821.77it/s]\n"
     ]
    },
    {
     "name": "stdout",
     "output_type": "stream",
     "text": [
      "Starts processing tile 1 of 1 at 2024-06-28 15:42:34.842660\n",
      "...Available Memory before loading the tile: 3.08 GB bytes\n",
      "...Searches for spots\n",
      "...Decodes spots\n",
      "...Corrects pixels to full image values\n",
      "...Tile (0, 2048),(0, 2048) is finished! It took 0:00:26.152673 to run\n",
      "Spot detection is finished!\n",
      "...Calculates the offset to anchor round\n"
     ]
    },
    {
     "name": "stderr",
     "output_type": "stream",
     "text": [
      "100%|██████████| 6/6 [00:00<00:00, 412.24it/s]\n"
     ]
    },
    {
     "name": "stdout",
     "output_type": "stream",
     "text": [
      "tile indices: {<Axes.ROUND: 'r'>: 0}\n",
      "translation: y=0.0, x=0.0, rotation: 0.0, scale: 1.0\n",
      "tile indices: {<Axes.ROUND: 'r'>: 1}\n",
      "translation: y=-220.167, x=-29.564, rotation: 0.0, scale: 1.0\n",
      "tile indices: {<Axes.ROUND: 'r'>: 2}\n",
      "translation: y=-241.87, x=-28.105, rotation: 0.0, scale: 1.0\n",
      "tile indices: {<Axes.ROUND: 'r'>: 3}\n",
      "translation: y=-141.858, x=14.732, rotation: 0.0, scale: 1.0\n",
      "tile indices: {<Axes.ROUND: 'r'>: 4}\n",
      "translation: y=-61.121, x=-8.523, rotation: 0.0, scale: 1.0\n",
      "tile indices: {<Axes.ROUND: 'r'>: 5}\n",
      "translation: y=-2.193, x=3.743, rotation: 0.0, scale: 1.0\n",
      "...Transforms images based on provided/calculated offset\n",
      "Segments cells\n"
     ]
    },
    {
     "name": "stderr",
     "output_type": "stream",
     "text": [
      "100%|██████████| 6/6 [00:00<00:00, 399.46it/s]\n",
      "100%|██████████| 6/6 [00:00<00:00, 375.84it/s]\n",
      "100%|██████████| 1/1 [00:00<00:00, 341.67it/s]\n",
      "100%|██████████| 1/1 [00:00<00:00, 344.11it/s]\n",
      "100%|██████████| 1/1 [00:00<00:00, 327.55it/s]\n"
     ]
    },
    {
     "name": "stdout",
     "output_type": "stream",
     "text": [
      "\n",
      "Results: One loop takes 26 seconds\n",
      "1 loops are expected.\n",
      "Executing the code will take an estimated total time of 0 day(s), 0 hour(s), 0 minute(s) and 56 second(s).\n",
      "\n",
      "The pipeline was started at: 2024-06-28 15:43:10.399174\n",
      "Loads the full nuclei image\n"
     ]
    },
    {
     "name": "stderr",
     "output_type": "stream",
     "text": [
      "100%|██████████| 6/6 [00:00<00:00, 191.93it/s]\n"
     ]
    },
    {
     "name": "stdout",
     "output_type": "stream",
     "text": [
      "Calculates offset between rounds by image registration\n",
      "...Calculates the offset to anchor round\n"
     ]
    },
    {
     "name": "stderr",
     "output_type": "stream",
     "text": [
      "100%|██████████| 6/6 [00:00<00:00, 372.44it/s]\n"
     ]
    },
    {
     "name": "stdout",
     "output_type": "stream",
     "text": [
      "tile indices: {<Axes.ROUND: 'r'>: 0}\n",
      "translation: y=0.0, x=0.0, rotation: 0.0, scale: 1.0\n",
      "tile indices: {<Axes.ROUND: 'r'>: 1}\n",
      "translation: y=-220.167, x=-29.564, rotation: 0.0, scale: 1.0\n",
      "tile indices: {<Axes.ROUND: 'r'>: 2}\n",
      "translation: y=-241.87, x=-28.105, rotation: 0.0, scale: 1.0\n",
      "tile indices: {<Axes.ROUND: 'r'>: 3}\n",
      "translation: y=-141.858, x=14.732, rotation: 0.0, scale: 1.0\n",
      "tile indices: {<Axes.ROUND: 'r'>: 4}\n",
      "translation: y=-61.121, x=-8.523, rotation: 0.0, scale: 1.0\n",
      "tile indices: {<Axes.ROUND: 'r'>: 5}\n",
      "translation: y=-2.193, x=3.743, rotation: 0.0, scale: 1.0\n",
      "...Finished!\n",
      "Loads the full signal image\n"
     ]
    },
    {
     "name": "stderr",
     "output_type": "stream",
     "text": [
      "100%|██████████| 24/24 [00:00<00:00, 149.98it/s]\n"
     ]
    },
    {
     "name": "stdout",
     "output_type": "stream",
     "text": [
      "Transforms the image according to calculated offset\n",
      "...Transforms images based on provided/calculated offset\n",
      "Equalises pixel intensities across channels and rounds\n",
      "Calculating reference distribution...\n"
     ]
    },
    {
     "name": "stderr",
     "output_type": "stream",
     "text": [
      "100%|██████████| 24/24 [00:00<00:00, 1630.23it/s]\n"
     ]
    },
    {
     "name": "stdout",
     "output_type": "stream",
     "text": [
      "Removes background from images with White Top-Hat filter\n"
     ]
    },
    {
     "name": "stderr",
     "output_type": "stream",
     "text": [
      "100%|██████████| 24/24 [00:00<00:00, 783.11it/s]\n"
     ]
    },
    {
     "name": "stdout",
     "output_type": "stream",
     "text": [
      "Performs deconvolution on images\n"
     ]
    },
    {
     "name": "stderr",
     "output_type": "stream",
     "text": [
      "100%|██████████| 24/24 [00:00<00:00, 1137.94it/s]\n"
     ]
    },
    {
     "name": "stdout",
     "output_type": "stream",
     "text": [
      "Starts processing tile 1 of 4 at 2024-06-28 15:43:40.986730\n",
      "...Available Memory before loading the tile: 3.11 GB bytes\n",
      "...Searches for spots\n",
      "...Decodes spots\n",
      "...Corrects pixels to full image values\n",
      "...Tile (0, 1024),(0, 1024) is finished! It took 0:00:28.132659 to run\n",
      "Spot detection is finished!\n",
      "...Calculates the offset to anchor round\n"
     ]
    },
    {
     "name": "stderr",
     "output_type": "stream",
     "text": [
      "100%|██████████| 6/6 [00:00<00:00, 381.09it/s]\n"
     ]
    },
    {
     "name": "stdout",
     "output_type": "stream",
     "text": [
      "tile indices: {<Axes.ROUND: 'r'>: 0}\n",
      "translation: y=0.0, x=0.0, rotation: 0.0, scale: 1.0\n",
      "tile indices: {<Axes.ROUND: 'r'>: 1}\n",
      "translation: y=-220.167, x=-29.564, rotation: 0.0, scale: 1.0\n",
      "tile indices: {<Axes.ROUND: 'r'>: 2}\n",
      "translation: y=-241.87, x=-28.105, rotation: 0.0, scale: 1.0\n",
      "tile indices: {<Axes.ROUND: 'r'>: 3}\n",
      "translation: y=-141.858, x=14.732, rotation: 0.0, scale: 1.0\n",
      "tile indices: {<Axes.ROUND: 'r'>: 4}\n",
      "translation: y=-61.121, x=-8.523, rotation: 0.0, scale: 1.0\n",
      "tile indices: {<Axes.ROUND: 'r'>: 5}\n",
      "translation: y=-2.193, x=3.743, rotation: 0.0, scale: 1.0\n",
      "...Transforms images based on provided/calculated offset\n",
      "Segments cells\n"
     ]
    },
    {
     "name": "stderr",
     "output_type": "stream",
     "text": [
      "100%|██████████| 6/6 [00:00<00:00, 377.84it/s]\n",
      "100%|██████████| 6/6 [00:00<00:00, 376.20it/s]\n",
      "100%|██████████| 1/1 [00:00<00:00, 350.64it/s]\n",
      "100%|██████████| 1/1 [00:00<00:00, 324.26it/s]\n",
      "100%|██████████| 1/1 [00:00<00:00, 308.95it/s]\n"
     ]
    },
    {
     "name": "stdout",
     "output_type": "stream",
     "text": [
      "\n",
      "Results: One loop takes 28 seconds\n",
      "4 loops are expected.\n",
      "Executing the code will take an estimated total time of 0 day(s), 0 hour(s), 2 minute(s) and 23 second(s).\n",
      "\n",
      "The pipeline was started at: 2024-06-28 15:44:18.585156\n",
      "Loads the full nuclei image\n"
     ]
    },
    {
     "name": "stderr",
     "output_type": "stream",
     "text": [
      "100%|██████████| 6/6 [00:00<00:00, 193.47it/s]\n"
     ]
    },
    {
     "name": "stdout",
     "output_type": "stream",
     "text": [
      "Calculates offset between rounds by image registration\n",
      "...Calculates the offset to anchor round\n"
     ]
    },
    {
     "name": "stderr",
     "output_type": "stream",
     "text": [
      "100%|██████████| 6/6 [00:00<00:00, 396.22it/s]\n"
     ]
    },
    {
     "name": "stdout",
     "output_type": "stream",
     "text": [
      "tile indices: {<Axes.ROUND: 'r'>: 0}\n",
      "translation: y=0.0, x=0.0, rotation: 0.0, scale: 1.0\n",
      "tile indices: {<Axes.ROUND: 'r'>: 1}\n",
      "translation: y=-220.167, x=-29.564, rotation: 0.0, scale: 1.0\n",
      "tile indices: {<Axes.ROUND: 'r'>: 2}\n",
      "translation: y=-241.87, x=-28.105, rotation: 0.0, scale: 1.0\n",
      "tile indices: {<Axes.ROUND: 'r'>: 3}\n",
      "translation: y=-141.858, x=14.732, rotation: 0.0, scale: 1.0\n",
      "tile indices: {<Axes.ROUND: 'r'>: 4}\n",
      "translation: y=-61.121, x=-8.523, rotation: 0.0, scale: 1.0\n",
      "tile indices: {<Axes.ROUND: 'r'>: 5}\n",
      "translation: y=-2.193, x=3.743, rotation: 0.0, scale: 1.0\n",
      "...Finished!\n",
      "Loads the full signal image\n"
     ]
    },
    {
     "name": "stderr",
     "output_type": "stream",
     "text": [
      "100%|██████████| 24/24 [00:00<00:00, 131.30it/s]\n"
     ]
    },
    {
     "name": "stdout",
     "output_type": "stream",
     "text": [
      "Transforms the image according to calculated offset\n",
      "...Transforms images based on provided/calculated offset\n",
      "Equalises pixel intensities across channels and rounds\n",
      "Calculating reference distribution...\n"
     ]
    },
    {
     "name": "stderr",
     "output_type": "stream",
     "text": [
      "100%|██████████| 24/24 [00:00<00:00, 1542.52it/s]\n"
     ]
    },
    {
     "name": "stdout",
     "output_type": "stream",
     "text": [
      "Removes background from images with White Top-Hat filter\n"
     ]
    },
    {
     "name": "stderr",
     "output_type": "stream",
     "text": [
      "100%|██████████| 24/24 [00:00<00:00, 484.59it/s]\n"
     ]
    },
    {
     "name": "stdout",
     "output_type": "stream",
     "text": [
      "Performs deconvolution on images\n"
     ]
    },
    {
     "name": "stderr",
     "output_type": "stream",
     "text": [
      "100%|██████████| 24/24 [00:00<00:00, 831.29it/s]\n"
     ]
    },
    {
     "name": "stdout",
     "output_type": "stream",
     "text": [
      "Starts processing tile 1 of 16 at 2024-06-28 15:44:49.714714\n",
      "...Available Memory before loading the tile: 2.98 GB bytes\n",
      "...Searches for spots\n",
      "...Decodes spots\n",
      "...Corrects pixels to full image values\n",
      "...Tile (0, 512),(0, 512) is finished! It took 0:00:28.889697 to run\n",
      "Spot detection is finished!\n",
      "...Calculates the offset to anchor round\n"
     ]
    },
    {
     "name": "stderr",
     "output_type": "stream",
     "text": [
      "100%|██████████| 6/6 [00:00<00:00, 399.65it/s]\n"
     ]
    },
    {
     "name": "stdout",
     "output_type": "stream",
     "text": [
      "tile indices: {<Axes.ROUND: 'r'>: 0}\n",
      "translation: y=0.0, x=0.0, rotation: 0.0, scale: 1.0\n",
      "tile indices: {<Axes.ROUND: 'r'>: 1}\n",
      "translation: y=-220.167, x=-29.564, rotation: 0.0, scale: 1.0\n",
      "tile indices: {<Axes.ROUND: 'r'>: 2}\n",
      "translation: y=-241.87, x=-28.105, rotation: 0.0, scale: 1.0\n",
      "tile indices: {<Axes.ROUND: 'r'>: 3}\n",
      "translation: y=-141.858, x=14.732, rotation: 0.0, scale: 1.0\n",
      "tile indices: {<Axes.ROUND: 'r'>: 4}\n",
      "translation: y=-61.121, x=-8.523, rotation: 0.0, scale: 1.0\n",
      "tile indices: {<Axes.ROUND: 'r'>: 5}\n",
      "translation: y=-2.193, x=3.743, rotation: 0.0, scale: 1.0\n",
      "...Transforms images based on provided/calculated offset\n",
      "Segments cells\n"
     ]
    },
    {
     "name": "stderr",
     "output_type": "stream",
     "text": [
      "100%|██████████| 6/6 [00:00<00:00, 408.21it/s]\n",
      "100%|██████████| 6/6 [00:00<00:00, 414.91it/s]\n",
      "100%|██████████| 1/1 [00:00<00:00, 352.73it/s]\n",
      "100%|██████████| 1/1 [00:00<00:00, 352.02it/s]\n",
      "100%|██████████| 1/1 [00:00<00:00, 343.40it/s]\n"
     ]
    },
    {
     "name": "stdout",
     "output_type": "stream",
     "text": [
      "\n",
      "Results: One loop takes 28 seconds\n",
      "16 loops are expected.\n",
      "Executing the code will take an estimated total time of 0 day(s), 0 hour(s), 8 minute(s) and 13 second(s).\n",
      "\n",
      "The pipeline was started at: 2024-06-28 15:45:27.910468\n",
      "Loads the full nuclei image\n"
     ]
    },
    {
     "name": "stderr",
     "output_type": "stream",
     "text": [
      "100%|██████████| 6/6 [00:00<00:00, 195.68it/s]\n"
     ]
    },
    {
     "name": "stdout",
     "output_type": "stream",
     "text": [
      "Calculates offset between rounds by image registration\n",
      "...Calculates the offset to anchor round\n"
     ]
    },
    {
     "name": "stderr",
     "output_type": "stream",
     "text": [
      "100%|██████████| 6/6 [00:00<00:00, 423.42it/s]\n"
     ]
    },
    {
     "name": "stdout",
     "output_type": "stream",
     "text": [
      "tile indices: {<Axes.ROUND: 'r'>: 0}\n",
      "translation: y=0.0, x=0.0, rotation: 0.0, scale: 1.0\n",
      "tile indices: {<Axes.ROUND: 'r'>: 1}\n",
      "translation: y=-220.167, x=-29.564, rotation: 0.0, scale: 1.0\n",
      "tile indices: {<Axes.ROUND: 'r'>: 2}\n",
      "translation: y=-241.87, x=-28.105, rotation: 0.0, scale: 1.0\n",
      "tile indices: {<Axes.ROUND: 'r'>: 3}\n",
      "translation: y=-141.858, x=14.732, rotation: 0.0, scale: 1.0\n",
      "tile indices: {<Axes.ROUND: 'r'>: 4}\n",
      "translation: y=-61.121, x=-8.523, rotation: 0.0, scale: 1.0\n",
      "tile indices: {<Axes.ROUND: 'r'>: 5}\n",
      "translation: y=-2.193, x=3.743, rotation: 0.0, scale: 1.0\n",
      "...Finished!\n",
      "Loads the full signal image\n"
     ]
    },
    {
     "name": "stderr",
     "output_type": "stream",
     "text": [
      "100%|██████████| 24/24 [00:00<00:00, 139.73it/s]\n"
     ]
    },
    {
     "name": "stdout",
     "output_type": "stream",
     "text": [
      "Transforms the image according to calculated offset\n",
      "...Transforms images based on provided/calculated offset\n",
      "Equalises pixel intensities across channels and rounds\n",
      "Calculating reference distribution...\n"
     ]
    },
    {
     "name": "stderr",
     "output_type": "stream",
     "text": [
      "100%|██████████| 24/24 [00:00<00:00, 958.03it/s]\n"
     ]
    },
    {
     "name": "stdout",
     "output_type": "stream",
     "text": [
      "Removes background from images with White Top-Hat filter\n"
     ]
    },
    {
     "name": "stderr",
     "output_type": "stream",
     "text": [
      "100%|██████████| 24/24 [00:00<00:00, 637.76it/s]\n"
     ]
    },
    {
     "name": "stdout",
     "output_type": "stream",
     "text": [
      "Performs deconvolution on images\n"
     ]
    },
    {
     "name": "stderr",
     "output_type": "stream",
     "text": [
      "100%|██████████| 24/24 [00:00<00:00, 1153.96it/s]\n"
     ]
    },
    {
     "name": "stdout",
     "output_type": "stream",
     "text": [
      "Starts processing tile 1 of 64 at 2024-06-28 15:45:58.350748\n",
      "...Available Memory before loading the tile: 2.97 GB bytes\n",
      "...Searches for spots\n",
      "...Decodes spots\n",
      "...Corrects pixels to full image values\n",
      "...Tile (0, 256),(0, 256) is finished! It took 0:00:29.416018 to run\n",
      "Spot detection is finished!\n",
      "...Calculates the offset to anchor round\n"
     ]
    },
    {
     "name": "stderr",
     "output_type": "stream",
     "text": [
      "100%|██████████| 6/6 [00:00<00:00, 318.43it/s]\n"
     ]
    },
    {
     "name": "stdout",
     "output_type": "stream",
     "text": [
      "tile indices: {<Axes.ROUND: 'r'>: 0}\n",
      "translation: y=0.0, x=0.0, rotation: 0.0, scale: 1.0\n",
      "tile indices: {<Axes.ROUND: 'r'>: 1}\n",
      "translation: y=-220.167, x=-29.564, rotation: 0.0, scale: 1.0\n",
      "tile indices: {<Axes.ROUND: 'r'>: 2}\n",
      "translation: y=-241.87, x=-28.105, rotation: 0.0, scale: 1.0\n",
      "tile indices: {<Axes.ROUND: 'r'>: 3}\n",
      "translation: y=-141.858, x=14.732, rotation: 0.0, scale: 1.0\n",
      "tile indices: {<Axes.ROUND: 'r'>: 4}\n",
      "translation: y=-61.121, x=-8.523, rotation: 0.0, scale: 1.0\n",
      "tile indices: {<Axes.ROUND: 'r'>: 5}\n",
      "translation: y=-2.193, x=3.743, rotation: 0.0, scale: 1.0\n",
      "...Transforms images based on provided/calculated offset\n",
      "Segments cells\n"
     ]
    },
    {
     "name": "stderr",
     "output_type": "stream",
     "text": [
      "100%|██████████| 6/6 [00:00<00:00, 415.92it/s]\n",
      "100%|██████████| 6/6 [00:00<00:00, 393.00it/s]\n",
      "100%|██████████| 1/1 [00:00<00:00, 367.92it/s]\n",
      "100%|██████████| 1/1 [00:00<00:00, 335.81it/s]\n",
      "100%|██████████| 1/1 [00:00<00:00, 357.78it/s]\n"
     ]
    },
    {
     "name": "stdout",
     "output_type": "stream",
     "text": [
      "\n",
      "Results: One loop takes 29 seconds\n",
      "64 loops are expected.\n",
      "Executing the code will take an estimated total time of 0 day(s), 0 hour(s), 31 minute(s) and 53 second(s).\n",
      "\n"
     ]
    }
   ],
   "source": [
    "from importlib import reload\n",
    "from src import starfish_wrapper\n",
    "reload(starfish_wrapper)\n",
    "from src.starfish_wrapper import run\n",
    "\n",
    "times = []\n",
    "for i in range(len(x_test)):\n",
    "    x_step = x_test[i]\n",
    "    y_step = y_test[i]\n",
    "    days, hours, minutes, seconds = run(exp, settings_path=settings_path, x_step=x_step, y_step=y_step,\n",
    "                                        test=True, transforms=None, save_transforms=None, just_register=False)\n",
    "    times.append([days, hours, minutes, seconds])"
   ]
  },
  {
   "cell_type": "markdown",
   "metadata": {},
   "source": [
    "### Inspect results"
   ]
  },
  {
   "cell_type": "markdown",
   "metadata": {},
   "source": [
    "These are the estimated times"
   ]
  },
  {
   "cell_type": "code",
   "execution_count": 28,
   "metadata": {},
   "outputs": [
    {
     "data": {
      "text/plain": [
       "[[0, 0, 0, 56], [0, 0, 2, 23], [0, 0, 8, 13], [0, 0, 31, 53]]"
      ]
     },
     "execution_count": 28,
     "metadata": {},
     "output_type": "execute_result"
    }
   ],
   "source": [
    "times"
   ]
  },
  {
   "cell_type": "markdown",
   "metadata": {},
   "source": [
    "Now let's visualise the times as a function of tile size and decide for the best tile size"
   ]
  },
  {
   "cell_type": "code",
   "execution_count": 29,
   "metadata": {},
   "outputs": [
    {
     "data": {
      "image/png": "[encoded data removed]",
      "text/plain": [
       "<Figure size 800x600 with 1 Axes>"
      ]
     },
     "metadata": {},
     "output_type": "display_data"
    }
   ],
   "source": [
    "# Example data (replace with your actual data)\n",
    "tile_sizes = x_test\n",
    "\n",
    "runtimes = []\n",
    "for time in times:\n",
    "    runtime = (time[0] * 24 * 60 * 60) + (time[1] * 60 * 60) + (time[2] * 60) + time[3]\n",
    "    runtimes.append(runtime)\n",
    "\n",
    "# Create the dot plot with lines connecting the dots\n",
    "plt.figure(figsize=(8, 6))\n",
    "\n",
    "# Plot the lines connecting the dots\n",
    "plt.plot(tile_sizes, runtimes, color='red', linestyle='-', marker='o')\n",
    "\n",
    "# Add labels and title\n",
    "plt.xlabel('Tile Size [pixels]')\n",
    "plt.ylabel('Runtime [sec]')\n",
    "plt.title('Runtime as a Function of Tile Size')\n",
    "\n",
    "# Add grid\n",
    "plt.grid(True)\n",
    "\n",
    "# Show plot\n",
    "plt.show()"
   ]
  },
  {
   "cell_type": "markdown",
   "metadata": {},
   "source": [
    "Define the tile sizes to use in the future here. Make sure to adjust your settings.yaml accordinly."
   ]
  },
  {
   "cell_type": "code",
   "execution_count": 19,
   "metadata": {},
   "outputs": [],
   "source": [
    "x_step = 2048\n",
    "y_step = 2048"
   ]
  }
 ],
 "metadata": {
  "kernelspec": {
   "display_name": "starfish",
   "language": "python",
   "name": "python3"
  },
  "language_info": {
   "codemirror_mode": {
    "name": "ipython",
    "version": 3
   },
   "file_extension": ".py",
   "mimetype": "text/x-python",
   "name": "python",
   "nbconvert_exporter": "python",
   "pygments_lexer": "ipython3",
   "version": "3.7.12"
  }
 },
 "nbformat": 4,
 "nbformat_minor": 2
}
