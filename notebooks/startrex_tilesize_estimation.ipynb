{
 "cells": [
  {
   "cell_type": "markdown",
   "metadata": {},
   "source": [
    "# Star-TREX run time estimation for large datasets"
   ]
  },
  {
   "cell_type": "markdown",
   "metadata": {},
   "source": [
    "Since looping through tiles and decoding spots in each tile separately might take a long time for large dataset, the following pipeline allows to estimate the run time for given tile sizes by running one loop and extrapolating the full run time. Then the optimal tile size can be identified."
   ]
  },
  {
   "cell_type": "markdown",
   "metadata": {},
   "source": [
    "### Load required data"
   ]
  },
  {
   "cell_type": "markdown",
   "metadata": {},
   "source": [
    "Load required packages."
   ]
  },
  {
   "cell_type": "code",
   "execution_count": null,
   "metadata": {},
   "outputs": [],
   "source": [
    "# Load packages\n",
    "from IPython import get_ipython\n",
    "import matplotlib.pyplot as plt\n",
    "import matplotlib\n",
    "import pandas as pd\n",
    "import numpy as np\n",
    "import sys\n",
    "import os\n",
    "\n",
    "sys.path.insert(1, os.path.abspath('..'))\n",
    "\n",
    "ipython = get_ipython()\n",
    "ipython.run_line_magic(\"gui\", \"qt5\")\n",
    "ipython.run_line_magic(\"matplotlib\", \"inline\")\n",
    "\n",
    "matplotlib.rcParams[\"figure.dpi\"] = 150"
   ]
  },
  {
   "cell_type": "markdown",
   "metadata": {},
   "source": [
    "Define your working directory and the path to the settings.yaml"
   ]
  },
  {
   "cell_type": "code",
   "execution_count": null,
   "metadata": {},
   "outputs": [],
   "source": [
    "work_dir = \"/Users/leonievb/Library/CloudStorage/OneDrive-Personal/Postdoc/Data/02_4_Gene_Test2/OME-TIFF_MaxIP/\"\n",
    "\n",
    "settings_path= \"/Users/leonievb/Library/CloudStorage/OneDrive-Personal/Postdoc/Data/02_4_Gene_Test2/4genepanel_dapi-488-568-657-750/OME-TIFF_MaxIP/settings.yaml\""
   ]
  },
  {
   "cell_type": "markdown",
   "metadata": {},
   "source": [
    "Load the experiment"
   ]
  },
  {
   "cell_type": "code",
   "execution_count": null,
   "metadata": {},
   "outputs": [],
   "source": [
    "#Load experiment\n",
    "from starfish import Experiment\n",
    "exp = Experiment.from_json(os.path.join(work_dir, \"spacetx\", \"primary\", \"experiment.json\"))\n",
    "print(exp)"
   ]
  },
  {
   "cell_type": "markdown",
   "metadata": {},
   "source": [
    "### Calculate registration offset and save"
   ]
  },
  {
   "cell_type": "markdown",
   "metadata": {},
   "source": [
    "To avoid calculating an registration offset each time, calculate the registration offset for the full image and store as json file. Skip the step if you have done this already. Use the settings.yaml file (can be found in star-trex/settings.yaml, make sure to adapt the settings to your data) to define settings that remain stable throughout the estimation and indicate the path to the file in the function call. If you wish to change some settings quickly, you can still do that in the function call below and it will overwrite the setting in the settings.yaml"
   ]
  },
  {
   "cell_type": "code",
   "execution_count": null,
   "metadata": {},
   "outputs": [],
   "source": [
    "from importlib import reload\n",
    "from src import starfish_wrapper\n",
    "reload(starfish_wrapper)\n",
    "from src.starfish_wrapper import run\n",
    "import os \n",
    "#Change these numbers as needed\n",
    "x_transform = 2048\n",
    "y_transform = 2048\n",
    "save_transforms = os.path.join(work_dir, \"transformation/transforms.json\")\n",
    "run(exp, x_step=x_transform, y_step=y_transform,settings_path=settings_path,\n",
    "    test=False, transforms=None, save_transforms=save_transforms, just_register=True)"
   ]
  },
  {
   "cell_type": "markdown",
   "metadata": {},
   "source": [
    "Now load your calculated offsets"
   ]
  },
  {
   "cell_type": "code",
   "execution_count": null,
   "metadata": {},
   "outputs": [],
   "source": [
    "transforms = os.path.join(work_dir, \"transformation/transforms.json\")\n",
    "transforms"
   ]
  },
  {
   "cell_type": "markdown",
   "metadata": {},
   "source": [
    "### Run first tile of different tile sizes"
   ]
  },
  {
   "cell_type": "markdown",
   "metadata": {},
   "source": [
    "Let's estimate the run time of the pipeline with different tile sizes. The chosen tile sizes should be a fraction of the total length of the edge, e.g. if the x dimension of your image is 2048 pixels, the tiles could have an x length of 1024, 512, 256 etc. Currently, the code cannot handle tile sizes that are not a fraction of the total size. \n",
    "The image does not have to be a square, e.g. it can be 2048 x 2000 pixels. In that case different length of edges can be chosen, e.g. 512 px for the x-edge and 500 px for the y-edge. "
   ]
  },
  {
   "cell_type": "markdown",
   "metadata": {},
   "source": [
    "Define the tile sizes to be tested below. Make sure the list"
   ]
  },
  {
   "cell_type": "code",
   "execution_count": 3,
   "metadata": {},
   "outputs": [],
   "source": [
    "x_test = [1024, 512, 256]\n",
    "y_test = [1024, 512, 256]\n",
    "\n",
    "if len(x_test) != len(y_test):\n",
    "    raise Exception(\"The list x_test and y_test must have the same number of elements\")"
   ]
  },
  {
   "cell_type": "markdown",
   "metadata": {},
   "source": [
    "Now run the estimation. Be aware, that depending on the size of tiles, this might take a while."
   ]
  },
  {
   "cell_type": "code",
   "execution_count": null,
   "metadata": {},
   "outputs": [],
   "source": [
    "from importlib import reload\n",
    "from src import starfish_wrapper\n",
    "reload(starfish_wrapper)\n",
    "from src.starfish_wrapper import run\n",
    "\n",
    "times = []\n",
    "for i in range(len(x_test)):\n",
    "    x_step = x_test[i]\n",
    "    y_step = y_test[i]\n",
    "    days, hours, minutes, seconds = run(exp, settings_path=settings_path, test=True, transforms=None, \n",
    "                                        save_transforms=None, just_register=False)\n",
    "    times.append([days, hours, minutes, seconds])"
   ]
  },
  {
   "cell_type": "markdown",
   "metadata": {},
   "source": [
    "### Inspect results"
   ]
  },
  {
   "cell_type": "markdown",
   "metadata": {},
   "source": [
    "These are the estimated times"
   ]
  },
  {
   "cell_type": "code",
   "execution_count": null,
   "metadata": {},
   "outputs": [],
   "source": [
    "times"
   ]
  },
  {
   "cell_type": "markdown",
   "metadata": {},
   "source": [
    "Now let's visualise the times as a function of tile size and decide for the best tile size"
   ]
  },
  {
   "cell_type": "code",
   "execution_count": null,
   "metadata": {},
   "outputs": [],
   "source": [
    "# Example data (replace with your actual data)\n",
    "tile_sizes = x_test\n",
    "\n",
    "runtimes = []\n",
    "for time in times:\n",
    "    runtime = (time[0] * 24 * 60 * 60) + (time[1] * 60 * 60) + (time[2] * 60) + time[3]\n",
    "    runtimes.append(runtime)\n",
    "\n",
    "# Create the dot plot with lines connecting the dots\n",
    "plt.figure(figsize=(8, 6))\n",
    "\n",
    "# Plot the lines connecting the dots\n",
    "plt.plot(tile_sizes, runtimes, color='red', linestyle='-', marker='o')\n",
    "\n",
    "# Add labels and title\n",
    "plt.xlabel('Tile Size [pixels]')\n",
    "plt.ylabel('Runtime [sec]')\n",
    "plt.title('Runtime as a Function of Tile Size')\n",
    "\n",
    "# Add grid\n",
    "plt.grid(True)\n",
    "\n",
    "# Show plot\n",
    "plt.show()"
   ]
  },
  {
   "cell_type": "markdown",
   "metadata": {},
   "source": [
    "Define the tile sizes to use in the future here. Make sure to adjust your settings.yaml accordinly."
   ]
  },
  {
   "cell_type": "code",
   "execution_count": null,
   "metadata": {},
   "outputs": [],
   "source": [
    "x_step = 2048\n",
    "y_step = 2048"
   ]
  }
 ],
 "metadata": {
  "kernelspec": {
   "display_name": "base",
   "language": "python",
   "name": "base"
  },
  "language_info": {
   "codemirror_mode": {
    "name": "ipython",
    "version": 3
   },
   "file_extension": ".py",
   "mimetype": "text/x-python",
   "name": "python",
   "nbconvert_exporter": "python",
   "pygments_lexer": "ipython3",
   "version": "3.11.0"
  }
 },
 "nbformat": 4,
 "nbformat_minor": 2
}
